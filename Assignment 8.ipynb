{
 "cells": [
  {
   "cell_type": "code",
   "execution_count": null,
   "id": "62b888c8-0c4e-4d5f-852c-a447a1e5977f",
   "metadata": {},
   "outputs": [],
   "source": [
    "'''Q1. What is an Exception in pthon? Write the difference etween Exceptions and syntax errors ?'''\n",
    "\n",
    "an exception is an event that occurs during the execution of a program and disrupts the normal flow of the program's instructions. \n",
    "When an exception occurs, \n",
    "Python raises an object that represents the exception, and the program can handle it in various ways.\n",
    "\n",
    "differences between exceptions and syntax errors\n",
    "\n",
    "Exceptions:\n",
    "\n",
    "Exceptions are runtime errors that occur when the program is executing.\n",
    "They can happen due to various reasons, such as invalid input, file not found, division by zero, or accessing a non-existent object attribute.\n",
    "Exceptions are typically caused by logical errors or external factors, and they are not known until the program is run.\n",
    "Examples of exceptions include ZeroDivisionError, FileNotFoundError, and TypeError.\n",
    "\n",
    "Syntax Errors:\n",
    "\n",
    "Syntax errors, also known as parsing errors, occur during the parsing of the code before the program is executed.\n",
    "They are caused by violations of the language's syntax rules, such as a missing parenthesis, misspelled keywords, or invalid indentation.\n",
    "Syntax errors prevent the program from running at all, and they are detected by the Python interpreter before execution.\n",
    "Examples of syntax errors include missing colons in function or loop definitions, unmatched parentheses, and misspelled variable or function names."
   ]
  },
  {
   "cell_type": "code",
   "execution_count": null,
   "id": "7d77b341-759e-46c5-8fb6-180cfb3983cf",
   "metadata": {},
   "outputs": [],
   "source": [
    "'''Q2. What happens when an exception is not handled? Explain with an example'''\n",
    "\n",
    "When an exception is not handled in Python, it results in the termination of the program's normal execution flow. "
   ]
  },
  {
   "cell_type": "code",
   "execution_count": 1,
   "id": "98936f1c-a473-420e-82b4-9cda08869270",
   "metadata": {},
   "outputs": [],
   "source": [
    "import logging\n",
    "logging.basicConfig(filename='error.log', level=logging.ERROR)\n",
    "\n",
    "def divide(x, y):\n",
    "    try:\n",
    "        result = x / y\n",
    "        return result\n",
    "    except ZeroDivisionError as e:\n",
    "        logging.error(f\"Division by zero: {e}\")\n",
    "        return None \n",
    "    \n",
    "result = divide(10, 0)\n",
    "\n",
    "if result is None:\n",
    "    logging.error(\"An error occurred. Check error.log for details.\")\n",
    "else:\n",
    "    logging.info(\"Result: %s\", result)\n"
   ]
  },
  {
   "cell_type": "code",
   "execution_count": null,
   "id": "de8de068-5d7b-44fb-85be-118332c10bb2",
   "metadata": {},
   "outputs": [],
   "source": [
    "'''Q3. Which Python statements are used to catch and handle exceptions? Explain with an example'''\n",
    "\n",
    "In Python, the try and except statements are used to catch and handle exceptions."
   ]
  },
  {
   "cell_type": "code",
   "execution_count": 2,
   "id": "476f6264-1a76-4ffa-93cc-3bd91b073616",
   "metadata": {},
   "outputs": [
    {
     "name": "stdout",
     "output_type": "stream",
     "text": [
      "This is my zero div error division by zero\n"
     ]
    }
   ],
   "source": [
    "try :\n",
    "    10/0\n",
    "except ZeroDivisionError as e:\n",
    "    print(\"This is my zero div error\",e)"
   ]
  },
  {
   "cell_type": "code",
   "execution_count": null,
   "id": "59b4c678-7598-4813-b0dd-63f0ac7c2d40",
   "metadata": {},
   "outputs": [],
   "source": [
    "'''Q4. Explain with an example:\n",
    "try and else\n",
    "finally\n",
    "raise'''\n",
    "\n",
    "\n",
    "the try and else blocks are used together to handle exceptions and execute code when no exceptions occur within the try block.\n",
    "\n",
    " the raise statement is used to explicitly raise an exception. This allows you to create and raise custom exceptions\n",
    "    \n",
    "The finally block is typically used for cleanup operations or to guarantee that certain actions are taken, such as closing a file or releasing resources,\n",
    "regardless of the outcome of the code in the try and except blocks."
   ]
  },
  {
   "cell_type": "code",
   "execution_count": 1,
   "id": "ce762d64-7dc5-4506-8bfa-8b932414d87a",
   "metadata": {},
   "outputs": [
    {
     "name": "stdout",
     "output_type": "stream",
     "text": [
      "Error: division by zero\n",
      "Division was successful.\n"
     ]
    }
   ],
   "source": [
    "def divide(x, y):\n",
    "    try:\n",
    "        result = x / y\n",
    "    except ZeroDivisionError as e:\n",
    "        print(f\"Error: {e}\")\n",
    "    else:\n",
    "        print(\"Division was successful.\")\n",
    "        return result\n",
    "\n",
    "\n",
    "result1 = divide(10, 0)\n",
    "\n",
    "result2 = divide(10, 2)\n"
   ]
  },
  {
   "cell_type": "code",
   "execution_count": 2,
   "id": "71b9c8f2-a452-4e34-85f1-7374098b0aa1",
   "metadata": {},
   "outputs": [
    {
     "name": "stdin",
     "output_type": "stream",
     "text": [
      "enter your age 555\n"
     ]
    }
   ],
   "source": [
    "age = int(input(\"enter your age\" ))"
   ]
  },
  {
   "cell_type": "code",
   "execution_count": 3,
   "id": "31c9a93e-e4e6-496f-873d-232279cc028f",
   "metadata": {},
   "outputs": [],
   "source": [
    "\n",
    "class validateage(Exception):\n",
    "    \n",
    "    def __init__(self , msg) : \n",
    "        self.msg = msg"
   ]
  },
  {
   "cell_type": "code",
   "execution_count": 4,
   "id": "4ce882c2-3455-49c8-bf20-6e583e0a02f0",
   "metadata": {},
   "outputs": [],
   "source": [
    "def validaetage(age) : \n",
    "    if age < 0 :\n",
    "        raise validateage(\"entered age is negative \" )\n",
    "    elif age > 200 : \n",
    "        raise validateage(\"enterd age is very very high \" )\n",
    "    else :\n",
    "        print(\"age is valid\" )"
   ]
  },
  {
   "cell_type": "code",
   "execution_count": 5,
   "id": "911e4a95-3d28-483f-8f36-ae2f77666966",
   "metadata": {},
   "outputs": [
    {
     "name": "stdin",
     "output_type": "stream",
     "text": [
      "enter your age 555\n"
     ]
    },
    {
     "name": "stdout",
     "output_type": "stream",
     "text": [
      "enterd age is very very high \n"
     ]
    }
   ],
   "source": [
    "try :\n",
    "    age = int(input(\"enter your age\" ))\n",
    "    validaetage(age)\n",
    "except validateage as e :\n",
    "    print(e)"
   ]
  },
  {
   "cell_type": "code",
   "execution_count": 6,
   "id": "a8c1dc9d-4056-49dd-838a-b1360dedfd3a",
   "metadata": {},
   "outputs": [
    {
     "name": "stdin",
     "output_type": "stream",
     "text": [
      "Enter a number:  0\n"
     ]
    },
    {
     "name": "stdout",
     "output_type": "stream",
     "text": [
      "Division by zero is not allowed.\n",
      "Cleanup: This block always gets executed.\n"
     ]
    }
   ],
   "source": [
    "try:\n",
    "    num = int(input(\"Enter a number: \"))\n",
    "    result = 10 / num\n",
    "except ValueError:\n",
    "    print(\"Invalid input. Please enter a valid number.\")\n",
    "except ZeroDivisionError:\n",
    "    print(\"Division by zero is not allowed.\")\n",
    "else:\n",
    "    print(f\"Result: {result}\")\n",
    "finally:\n",
    "    print(\"Cleanup: This block always gets executed.\")"
   ]
  },
  {
   "cell_type": "code",
   "execution_count": null,
   "id": "a1078c56-1ff4-4a01-9b9d-30e8af560bdf",
   "metadata": {},
   "outputs": [],
   "source": [
    "'''Q5. What are Custom Exceptions in python? Why do we need Custom Exceptions? Explain with an example'''\n",
    "\n",
    "Custom exceptions, also known as user-defined exceptions, are exceptions that you can create in Python to represent specific error \n",
    "conditions or situations in your code.\n",
    "\n"
   ]
  },
  {
   "cell_type": "code",
   "execution_count": null,
   "id": "5b8e8936-74db-4027-83b6-260cb221ae38",
   "metadata": {},
   "outputs": [],
   "source": [
    "age = int(input(\"enter your age\" ))"
   ]
  },
  {
   "cell_type": "code",
   "execution_count": null,
   "id": "826a3312-e272-403c-baec-6bce5ba894af",
   "metadata": {},
   "outputs": [],
   "source": [
    "\n",
    "class validateage(Exception):\n",
    "    \n",
    "    def __init__(self , msg) : \n",
    "        self.msg = msg"
   ]
  },
  {
   "cell_type": "code",
   "execution_count": null,
   "id": "a0f711a7-1f1d-4a2a-bf84-0a6608df11c3",
   "metadata": {},
   "outputs": [],
   "source": [
    "def validaetage(age) : \n",
    "    if age < 0 :\n",
    "        raise validateage(\"entered age is negative \" )\n",
    "    elif age > 200 : \n",
    "        raise validateage(\"enterd age is very very high \" )\n",
    "    else :\n",
    "        print(\"age is valid\" )"
   ]
  },
  {
   "cell_type": "code",
   "execution_count": 7,
   "id": "777e526b-a0c0-4ee5-b015-b96892df764a",
   "metadata": {},
   "outputs": [
    {
     "name": "stdin",
     "output_type": "stream",
     "text": [
      "enter your age 55\n"
     ]
    },
    {
     "name": "stdout",
     "output_type": "stream",
     "text": [
      "age is valid\n"
     ]
    }
   ],
   "source": [
    "try :\n",
    "    age = int(input(\"enter your age\" ))\n",
    "    validaetage(age)\n",
    "except validateage as e :\n",
    "    print(e)"
   ]
  },
  {
   "cell_type": "code",
   "execution_count": null,
   "id": "c6a43633-fbbb-43bc-8484-45e691f835a3",
   "metadata": {},
   "outputs": [],
   "source": []
  },
  {
   "cell_type": "code",
   "execution_count": null,
   "id": "65b223f2-db05-43b3-8ac3-cbed71136379",
   "metadata": {},
   "outputs": [],
   "source": []
  }
 ],
 "metadata": {
  "kernelspec": {
   "display_name": "Python 3 (ipykernel)",
   "language": "python",
   "name": "python3"
  },
  "language_info": {
   "codemirror_mode": {
    "name": "ipython",
    "version": 3
   },
   "file_extension": ".py",
   "mimetype": "text/x-python",
   "name": "python",
   "nbconvert_exporter": "python",
   "pygments_lexer": "ipython3",
   "version": "3.10.8"
  }
 },
 "nbformat": 4,
 "nbformat_minor": 5
}
